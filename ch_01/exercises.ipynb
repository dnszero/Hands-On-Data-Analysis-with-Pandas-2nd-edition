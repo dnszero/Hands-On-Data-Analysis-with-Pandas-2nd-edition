{
 "cells": [
  {
   "cell_type": "markdown",
   "metadata": {},
   "source": [
    "# Coding exercises\n",
    "Exercises 1-3 are thought exercises that don't require coding. If you need a Python crash-course/refresher, work through the [`python_101.ipynb`](./python_101.ipynb) notebook in chapter 1.\n",
    "\n",
    "## Exercise 4: Generate the data by running this cell\n",
    "This will give you a list of numbers to work with in the remaining exercises."
   ]
  },
  {
   "cell_type": "code",
   "execution_count": 37,
   "metadata": {},
   "outputs": [],
   "source": [
    "import random\n",
    "import statistics as st\n",
    "import numpy as np\n",
    "\n",
    "random.seed(0)\n",
    "salaries = [round(random.random()*1000000, -3) for _ in range(100)]"
   ]
  },
  {
   "cell_type": "markdown",
   "metadata": {},
   "source": [
    "## Exercise 5: Calculating statistics and verifying\n",
    "### mean"
   ]
  },
  {
   "cell_type": "code",
   "execution_count": 38,
   "metadata": {},
   "outputs": [
    {
     "name": "stdout",
     "output_type": "stream",
     "text": [
      "My average is: 585690.0\n"
     ]
    },
    {
     "data": {
      "text/plain": "585690.0"
     },
     "execution_count": 38,
     "metadata": {},
     "output_type": "execute_result"
    }
   ],
   "source": [
    "total = sum(salaries)/len(salaries)\n",
    "print(f\"My average is: {total}\")\n",
    "avg = st.mean(salaries)\n",
    "avg"
   ]
  },
  {
   "cell_type": "markdown",
   "metadata": {},
   "source": [
    "### median"
   ]
  },
  {
   "cell_type": "code",
   "execution_count": 39,
   "metadata": {},
   "outputs": [
    {
     "name": "stdout",
     "output_type": "stream",
     "text": [
      "My median is 588000.0\n",
      "Stat median is 589000.0\n"
     ]
    }
   ],
   "source": [
    "salaries.sort()\n",
    "median_my = salaries[round(len(salaries)/2) - 1]\n",
    "median_stat = st.median(salaries)\n",
    "print(f\"My median is {median_my}\")\n",
    "print(f\"Stat median is {median_stat}\")\n",
    "# Don't know why they are different..."
   ]
  },
  {
   "cell_type": "markdown",
   "metadata": {},
   "source": [
    "### mode"
   ]
  },
  {
   "cell_type": "code",
   "execution_count": 40,
   "metadata": {},
   "outputs": [
    {
     "data": {
      "text/plain": "477000.0"
     },
     "execution_count": 40,
     "metadata": {},
     "output_type": "execute_result"
    }
   ],
   "source": [
    "unique_sal = dict.fromkeys(salaries, 0)\n",
    "for i in salaries:\n",
    "    unique_sal[i] += 1\n",
    "\n",
    "max(unique_sal, key=unique_sal.get)\n",
    "st.mode(salaries)"
   ]
  },
  {
   "cell_type": "markdown",
   "metadata": {},
   "source": [
    "### sample variance\n",
    "Remember to use Bessel's correction."
   ]
  },
  {
   "cell_type": "code",
   "execution_count": 41,
   "metadata": {},
   "outputs": [
    {
     "data": {
      "text/plain": "70664054444.44444"
     },
     "execution_count": 41,
     "metadata": {},
     "output_type": "execute_result"
    }
   ],
   "source": [
    "st.variance(salaries)"
   ]
  },
  {
   "cell_type": "markdown",
   "metadata": {},
   "source": [
    "### sample standard deviation\n",
    "Remember to use Bessel's correction."
   ]
  },
  {
   "cell_type": "code",
   "execution_count": 33,
   "metadata": {},
   "outputs": [
    {
     "data": {
      "text/plain": "265827.11382484"
     },
     "execution_count": 33,
     "metadata": {},
     "output_type": "execute_result"
    }
   ],
   "source": [
    "stddev = st.stdev(salaries)"
   ]
  },
  {
   "cell_type": "markdown",
   "metadata": {},
   "source": [
    "## Exercise 6: Calculating more statistics\n",
    "### range"
   ]
  },
  {
   "cell_type": "code",
   "execution_count": 34,
   "metadata": {},
   "outputs": [
    {
     "data": {
      "text/plain": "995000.0"
     },
     "execution_count": 34,
     "metadata": {},
     "output_type": "execute_result"
    }
   ],
   "source": [
    "max(salaries) - min(salaries)"
   ]
  },
  {
   "cell_type": "markdown",
   "metadata": {},
   "source": [
    "### coefficient of variation\n",
    "Make sure to use the sample standard deviation."
   ]
  },
  {
   "cell_type": "code",
   "execution_count": 35,
   "metadata": {},
   "outputs": [
    {
     "data": {
      "text/plain": "0.45386998894439035"
     },
     "execution_count": 35,
     "metadata": {},
     "output_type": "execute_result"
    }
   ],
   "source": [
    "st.stdev(salaries) / st.mean(salaries)"
   ]
  },
  {
   "cell_type": "markdown",
   "metadata": {},
   "source": [
    "### interquartile range"
   ]
  },
  {
   "cell_type": "code",
   "execution_count": null,
   "metadata": {},
   "outputs": [],
   "source": []
  },
  {
   "cell_type": "markdown",
   "metadata": {},
   "source": [
    "### quartile coefficient of dispersion"
   ]
  },
  {
   "cell_type": "code",
   "execution_count": null,
   "metadata": {},
   "outputs": [],
   "source": []
  },
  {
   "cell_type": "markdown",
   "metadata": {},
   "source": [
    "## Exercise 7: Scaling data\n",
    "### min-max scaling"
   ]
  },
  {
   "cell_type": "code",
   "execution_count": 51,
   "metadata": {},
   "outputs": [
    {
     "data": {
      "text/plain": "array([0.        , 0.01306533, 0.07939698, 0.08140704, 0.08944724,\n       0.10050251, 0.10854271, 0.18693467, 0.18894472, 0.19095477,\n       0.23919598, 0.24422111, 0.25125628, 0.25929648, 0.26030151,\n       0.27638191, 0.28241206, 0.29045226, 0.30351759, 0.31055276,\n       0.32060302, 0.32562814, 0.38592965, 0.3919598 , 0.4       ,\n       0.40603015, 0.42211055, 0.43517588, 0.44623116, 0.44924623,\n       0.45226131, 0.47336683, 0.47839196, 0.47839196, 0.47839196,\n       0.48743719, 0.49547739, 0.50653266, 0.50954774, 0.51256281,\n       0.54170854, 0.54271357, 0.54874372, 0.55075377, 0.55276382,\n       0.56984925, 0.57788945, 0.58190955, 0.58492462, 0.58994975,\n       0.5919598 , 0.59798995, 0.60502513, 0.61306533, 0.61507538,\n       0.61507538, 0.6201005 , 0.65929648, 0.66231156, 0.67035176,\n       0.68643216, 0.70753769, 0.70954774, 0.72261307, 0.73266332,\n       0.75879397, 0.76080402, 0.76080402, 0.78693467, 0.7959799 ,\n       0.80603015, 0.8080402 , 0.81306533, 0.81507538, 0.81708543,\n       0.8281407 , 0.84522613, 0.84723618, 0.85226131, 0.86834171,\n       0.87135678, 0.87336683, 0.88040201, 0.89849246, 0.90150754,\n       0.90251256, 0.90552764, 0.91155779, 0.91356784, 0.91658291,\n       0.92060302, 0.92663317, 0.92663317, 0.93668342, 0.95376884,\n       0.9678392 , 0.97085427, 0.9718593 , 0.98693467, 1.        ])"
     },
     "execution_count": 51,
     "metadata": {},
     "output_type": "execute_result"
    }
   ],
   "source": [
    "salaries = np.array(salaries)\n",
    "min_sal = salaries.min()\n",
    "max_sal = salaries.max()\n",
    "ran_sal = max_sal - min_sal\n",
    "\n",
    "scaled_sal = np.vectorize(lambda x: (x - min_sal)/ran_sal)(salaries)\n",
    "scaled_sal"
   ]
  },
  {
   "cell_type": "markdown",
   "metadata": {},
   "source": [
    "### standardizing"
   ]
  },
  {
   "cell_type": "code",
   "execution_count": 54,
   "metadata": {},
   "outputs": [
    {
     "data": {
      "text/plain": "array([-2.21059301, -2.16144268, -1.91191021, -1.90434862, -1.87410226,\n       -1.83251351, -1.80226716, -1.50736515, -1.49980356, -1.49224197,\n       -1.31076381, -1.29185983, -1.26539427, -1.23514791, -1.23136711,\n       -1.17087439, -1.14818962, -1.11794327, -1.06879293, -1.04232737,\n       -1.00451942, -0.98561544, -0.75876774, -0.73608297, -0.70583661,\n       -0.68315184, -0.62265912, -0.57350879, -0.53192004, -0.52057766,\n       -0.50923527, -0.42983858, -0.41093461, -0.41093461, -0.41093461,\n       -0.37690745, -0.34666109, -0.30507235, -0.29372996, -0.28238758,\n       -0.17274452, -0.16896373, -0.14627896, -0.13871737, -0.13115578,\n       -0.06688226, -0.0366359 , -0.02151272, -0.01017034,  0.00873364,\n        0.01629523,  0.03898   ,  0.06544556,  0.09569192,  0.10325351,\n        0.10325351,  0.12215749,  0.26960849,  0.28095087,  0.31119723,\n        0.37168995,  0.45108665,  0.45864824,  0.50779857,  0.54560652,\n        0.64390719,  0.65146878,  0.65146878,  0.74976945,  0.78379661,\n        0.82160456,  0.82916615,  0.84807012,  0.85563171,  0.8631933 ,\n        0.90478204,  0.96905556,  0.97661715,  0.99552112,  1.05601384,\n        1.06735623,  1.07491782,  1.10138338,  1.16943769,  1.18078008,\n        1.18456087,  1.19590326,  1.21858803,  1.22614962,  1.237492  ,\n        1.25261518,  1.27529995,  1.27529995,  1.3131079 ,  1.37738142,\n        1.43031255,  1.44165493,  1.44543573,  1.50214765,  1.55129798])"
     },
     "execution_count": 54,
     "metadata": {},
     "output_type": "execute_result"
    }
   ],
   "source": [
    "sal_avg = np.mean(salaries)\n",
    "sal_dev = np.std(salaries)\n",
    "z_score = np.vectorize(lambda x: (x - sal_avg) / sal_dev)(salaries)\n",
    "z_score"
   ]
  },
  {
   "cell_type": "markdown",
   "metadata": {},
   "source": [
    "## Exercise 8: Calculating covariance and correlation\n",
    "### covariance"
   ]
  },
  {
   "cell_type": "code",
   "execution_count": null,
   "metadata": {},
   "outputs": [],
   "source": []
  },
  {
   "cell_type": "markdown",
   "metadata": {},
   "source": [
    "### Pearson correlation coefficient ($\\rho$)"
   ]
  },
  {
   "cell_type": "code",
   "execution_count": null,
   "metadata": {},
   "outputs": [],
   "source": []
  },
  {
   "cell_type": "markdown",
   "metadata": {},
   "source": [
    "<hr>\n",
    "<div style=\"overflow: hidden; margin-bottom: 10px;\">\n",
    "    <div style=\"float: left;\">\n",
    "        <a href=\"./python_101.ipynb\">\n",
    "            <button>Python 101</button>\n",
    "        </a>\n",
    "    </div>\n",
    "    <div style=\"float: right;\">\n",
    "        <a href=\"../../solutions/ch_01/solutions.ipynb\">\n",
    "            <button>Solutions</button>\n",
    "        </a>\n",
    "        <a href=\"../ch_02/1-pandas_data_structures.ipynb\">\n",
    "            <button>Chapter 2 &#8594;</button>\n",
    "        </a>\n",
    "    </div>\n",
    "</div>\n",
    "<hr>"
   ]
  }
 ],
 "metadata": {
  "kernelspec": {
   "display_name": "Python 3 (ipykernel)",
   "language": "python",
   "name": "python3"
  },
  "language_info": {
   "codemirror_mode": {
    "name": "ipython",
    "version": 3
   },
   "file_extension": ".py",
   "mimetype": "text/x-python",
   "name": "python",
   "nbconvert_exporter": "python",
   "pygments_lexer": "ipython3",
   "version": "3.8.11"
  }
 },
 "nbformat": 4,
 "nbformat_minor": 4
}